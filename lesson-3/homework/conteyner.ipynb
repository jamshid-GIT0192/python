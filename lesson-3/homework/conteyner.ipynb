{
 "cells": [
  {
   "cell_type": "code",
   "execution_count": null,
   "id": "764cfc85",
   "metadata": {},
   "outputs": [
    {
     "data": {
      "text/plain": [
       "1"
      ]
     },
     "execution_count": 1,
     "metadata": {},
     "output_type": "execute_result"
    }
   ],
   "source": [
    "# 1misol\n",
    "# mylist= [1,2,1,3,4,1]\n",
    "# element=1\n",
    "# soni =mylist.count(element) \n",
    "# element"
   ]
  },
  {
   "cell_type": "code",
   "execution_count": null,
   "id": "701c9376",
   "metadata": {},
   "outputs": [
    {
     "data": {
      "text/plain": [
       "28"
      ]
     },
     "execution_count": 2,
     "metadata": {},
     "output_type": "execute_result"
    }
   ],
   "source": [
    "# # 2misol\n",
    "# mylist=[1,2,3,4,5,6,7]\n",
    "# yigindi=sum(mylist)\n",
    "# yigindi"
   ]
  },
  {
   "cell_type": "code",
   "execution_count": null,
   "id": "07a5a760",
   "metadata": {},
   "outputs": [
    {
     "data": {
      "text/plain": [
       "20"
      ]
     },
     "execution_count": 3,
     "metadata": {},
     "output_type": "execute_result"
    }
   ],
   "source": [
    "# # 3misol\n",
    "# mylist=[1,2,3,4,5,6,20]\n",
    "# eng_katta=max(mylist)\n",
    "# eng_katta"
   ]
  },
  {
   "cell_type": "code",
   "execution_count": null,
   "id": "7508980d",
   "metadata": {},
   "outputs": [
    {
     "data": {
      "text/plain": [
       "1"
      ]
     },
     "execution_count": 4,
     "metadata": {},
     "output_type": "execute_result"
    }
   ],
   "source": [
    "# # 4misol\n",
    "# mylist=[1,2,3,4,5,6,20]\n",
    "# eng_kichik=min(mylist)\n",
    "# eng_kichik"
   ]
  },
  {
   "cell_type": "code",
   "execution_count": null,
   "id": "3cf0f164",
   "metadata": {},
   "outputs": [
    {
     "name": "stdout",
     "output_type": "stream",
     "text": [
      "45 royxatda bor\n"
     ]
    }
   ],
   "source": [
    "# 5 misol\n",
    "# mylist = [1,2,45,7,3]\n",
    "# element = 45\n",
    "# if element in mylist:\n",
    "#   print(f\"{ element} royxatda bor\" )\n",
    "# else:\n",
    "#    print(f\"{ element} yoq \" )"
   ]
  },
  {
   "cell_type": "code",
   "execution_count": null,
   "id": "1d9272a5",
   "metadata": {},
   "outputs": [
    {
     "name": "stdout",
     "output_type": "stream",
     "text": [
      "Birinchi element : 10\n"
     ]
    }
   ],
   "source": [
    "# 6 misol\n",
    "# mylist = [10,3,5]\n",
    "# birinchi = mylist[0] if mylist else None\n",
    "# print(f\"Birinchi element : {birinchi}\" )"
   ]
  },
  {
   "cell_type": "code",
   "execution_count": null,
   "id": "bead72da",
   "metadata": {},
   "outputs": [
    {
     "name": "stdout",
     "output_type": "stream",
     "text": [
      "Birinchi element : 5\n"
     ]
    }
   ],
   "source": [
    "# 7 misol\n",
    "# mylist = [10,3,5]\n",
    "# oxirgi = mylist[-1] if mylist else None\n",
    "# print(f\"Birinchi element : {oxirgi}\" )"
   ]
  },
  {
   "cell_type": "code",
   "execution_count": null,
   "id": "7dd2da22",
   "metadata": {},
   "outputs": [
    {
     "data": {
      "text/plain": [
       "[10, 3, 5, 6]"
      ]
     },
     "execution_count": 11,
     "metadata": {},
     "output_type": "execute_result"
    }
   ],
   "source": [
    "# 8 misol\n",
    "# mylist = [10,3,5,6,7,8]\n",
    "# uchta= mylist[:3]\n",
    "# uchta"
   ]
  },
  {
   "cell_type": "code",
   "execution_count": null,
   "id": "76e0cc86",
   "metadata": {},
   "outputs": [
    {
     "data": {
      "text/plain": [
       "[8, 7, 6, 5, 3, 10]"
      ]
     },
     "execution_count": 12,
     "metadata": {},
     "output_type": "execute_result"
    }
   ],
   "source": [
    "# 9 misol\n",
    "# mylist = [10,3,5,6,7,8]\n",
    "# teskari= mylist[::-1]\n",
    "# teskari"
   ]
  },
  {
   "cell_type": "code",
   "execution_count": null,
   "id": "6eba1c0f",
   "metadata": {},
   "outputs": [
    {
     "data": {
      "text/plain": [
       "[3, 5, 6, 7, 8, 10]"
      ]
     },
     "execution_count": 14,
     "metadata": {},
     "output_type": "execute_result"
    }
   ],
   "source": [
    "# 10 misol\n",
    "# mylist = [10,3,5,6,7,8]\n",
    "# sortlash= sorted(mylist)\n",
    "# sortlash"
   ]
  },
  {
   "cell_type": "code",
   "execution_count": null,
   "id": "b38d48f9",
   "metadata": {},
   "outputs": [
    {
     "data": {
      "text/plain": [
       "[1, 2, 3]"
      ]
     },
     "execution_count": 15,
     "metadata": {},
     "output_type": "execute_result"
    }
   ],
   "source": [
    "# 11 misol\n",
    "# mylist = [1,1,2,2,3,3]\n",
    "# unikal= list(set(mylist))\n",
    "# unikal"
   ]
  },
  {
   "cell_type": "code",
   "execution_count": null,
   "id": "2d09edb6",
   "metadata": {},
   "outputs": [
    {
     "data": {
      "text/plain": [
       "[1, 2, 5]"
      ]
     },
     "execution_count": 19,
     "metadata": {},
     "output_type": "execute_result"
    }
   ],
   "source": [
    "# 12 misol\n",
    "# mylist = [1,5]\n",
    "# index = 1\n",
    "# element = 2\n",
    "# mylist.insert(index , element)\n",
    "# mylist"
   ]
  },
  {
   "cell_type": "code",
   "execution_count": null,
   "id": "b3b0c677",
   "metadata": {},
   "outputs": [
    {
     "name": "stdout",
     "output_type": "stream",
     "text": [
      "2 ning birinchi indexi 1 \n"
     ]
    }
   ],
   "source": [
    "# 13 misol\n",
    "# mylist = [1,2,3,4,5]\n",
    "# element = 2 \n",
    "# index = mylist.index(element)\n",
    "# print(f\"{element} ning birinchi indexi {index} \")"
   ]
  },
  {
   "cell_type": "code",
   "execution_count": null,
   "id": "5b9d832e",
   "metadata": {},
   "outputs": [
    {
     "name": "stdout",
     "output_type": "stream",
     "text": [
      " royxat boshmi : True\n"
     ]
    }
   ],
   "source": [
    "# 14 misol  \n",
    "# mylist=[]\n",
    "# boshroyxat = len(mylist)== 0\n",
    "# print(f\" royxat boshmi : {boshroyxat}\")"
   ]
  },
  {
   "cell_type": "code",
   "execution_count": null,
   "id": "6684d47e",
   "metadata": {},
   "outputs": [],
   "source": [
    "# 16 misol\n",
    "\n",
    "# my_list = [1, 2, 3, 4, 5]\n",
    "\n",
    "# toq_sonlar = len([x for x in my_list if x % 2 != 0])\n",
    "# print(f\"Toq sonlar soni: {toq_sonlar}\")"
   ]
  },
  {
   "cell_type": "code",
   "execution_count": null,
   "id": "5e2e342d",
   "metadata": {},
   "outputs": [],
   "source": [
    "# 17 misol\n",
    "\n",
    "# list1 = [1, 2, 3]\n",
    "# list2 = [4, 5, 6]\n",
    "\n",
    "# birlashtirilgan = list1 + list2\n",
    "# print(f\"Birlashtirilgan ro‘yxat: {birlashtirilgan}\")"
   ]
  },
  {
   "cell_type": "code",
   "execution_count": null,
   "id": "62165738",
   "metadata": {},
   "outputs": [],
   "source": [
    "# 18  misol\n",
    "\n",
    "# my_list = [1, 2, 3, 4, 5]\n",
    "# sublist = [2, 3]\n",
    "\n",
    "# exists = str(sublist)[1:-1] in str(my_list)\n",
    "# print(f\"Subro‘yxat mavjudmi? {exists}\")"
   ]
  },
  {
   "cell_type": "code",
   "execution_count": null,
   "id": "013e144e",
   "metadata": {},
   "outputs": [],
   "source": [
    "# 19 misol\n",
    "\n",
    "# my_list = [1, 2, 3, 4, 5]\n",
    "# old = 3\n",
    "# new = 9\n",
    "\n",
    "# if old in my_list:\n",
    "#     index = my_list.index(old)\n",
    "#     my_list[index] = new\n",
    "\n",
    "# print(f\"Yangilangan ro‘yxat: {my_list}\")"
   ]
  },
  {
   "cell_type": "code",
   "execution_count": null,
   "id": "9b6ca3f4",
   "metadata": {},
   "outputs": [],
   "source": [
    "# 20 misol\n",
    "\n",
    "# my_list = [1, 2, 3, 4, 5]\n",
    "\n",
    "# unikal = list(set(my_list))\n",
    "# unikal.sort()\n",
    "\n",
    "# if len(unikal) >= 2:\n",
    "#     ikkinchi_katta = unikal[-2]\n",
    "# else:\n",
    "#     ikkinchi_katta = None\n",
    "\n",
    "# print(f\"Ikkinchi eng katta element: {ikkinchi_katta}\")"
   ]
  },
  {
   "cell_type": "code",
   "execution_count": null,
   "id": "a80fa792",
   "metadata": {},
   "outputs": [],
   "source": [
    "# 21 misol\n",
    "\n",
    "# my_list = [5, 3, 1, 2, 4]\n",
    "\n",
    "# unikal = list(set(my_list))\n",
    "# unikal.sort()\n",
    "\n",
    "# if len(unikal) >= 2:\n",
    "#     ikkinchi_kichik = unikal[1]\n",
    "# else:\n",
    "#     ikkinchi_kichik = None\n",
    "\n",
    "# print(f\"Ikkinchi eng kichik element: {ikkinchi_kichik}\")"
   ]
  },
  {
   "cell_type": "code",
   "execution_count": null,
   "id": "ce039655",
   "metadata": {},
   "outputs": [],
   "source": [
    "# 22 misol\n",
    "\n",
    "# my_list = [1, 2, 3, 4, 5]\n",
    "\n",
    "# juft_sonlar = [x for x in my_list if x % 2 == 0]\n",
    "# print(f\"Juft sonlar: {juft_sonlar}\")"
   ]
  },
  {
   "cell_type": "code",
   "execution_count": null,
   "id": "aabe856b",
   "metadata": {},
   "outputs": [
    {
     "name": "stdout",
     "output_type": "stream",
     "text": [
      "Toq sonlar: [1, 3, 5]\n"
     ]
    }
   ],
   "source": [
    "# 23 misol\n",
    "\n",
    "# my_list = [1, 2, 3, 4, 5]\n",
    "\n",
    "# toq_sonlar = [x for x in my_list if x % 2 != 0]\n",
    "# print(f\"Toq sonlar: {toq_sonlar}\")"
   ]
  },
  {
   "cell_type": "code",
   "execution_count": null,
   "id": "0ab2a44e",
   "metadata": {},
   "outputs": [],
   "source": [
    "# 24 misol\n",
    "\n",
    "# my_list = [1, 2, 3, 4, 5]\n",
    "\n",
    "# uzunlik = len(my_list)\n",
    "# print(f\"Ro‘yxat uzunligi: {uzunlik}\")"
   ]
  },
  {
   "cell_type": "code",
   "execution_count": null,
   "id": "d0460f0e",
   "metadata": {},
   "outputs": [
    {
     "name": "stdout",
     "output_type": "stream",
     "text": [
      "Nusxa ro‘yxat: [1, 2, 3, 4, 5]\n"
     ]
    }
   ],
   "source": [
    "# 25 misol\n",
    "\n",
    "# my_list = [1, 2, 3, 4, 5]\n",
    "\n",
    "# nusxa = my_list.copy()\n",
    "# print(f\"Nusxa ro‘yxat: {nusxa}\")"
   ]
  },
  {
   "cell_type": "code",
   "execution_count": null,
   "id": "9c685c9c",
   "metadata": {},
   "outputs": [
    {
     "name": "stdout",
     "output_type": "stream",
     "text": [
      "Orta element(lar): 3\n"
     ]
    }
   ],
   "source": [
    "# 26 misol\n",
    "\n",
    "# my_list = [1, 2, 3, 4, 5]\n",
    "\n",
    "# uzunlik = len(my_list)\n",
    "# if uzunlik % 2 == 1:\n",
    "#     orta = my_list[uzunlik // 2]\n",
    "# else:\n",
    "#     orta = my_list[uzunlik // 2 - 1:uzunlik // 2 + 1]\n",
    "\n",
    "# print(f\"Orta element(lar): {orta}\") "
   ]
  },
  {
   "cell_type": "code",
   "execution_count": null,
   "id": "b6872f2d",
   "metadata": {},
   "outputs": [
    {
     "name": "stdout",
     "output_type": "stream",
     "text": [
      "Subro‘yxatdagi eng katta element: 4\n"
     ]
    }
   ],
   "source": [
    "# 27 misol\n",
    "\n",
    "# my_list = [1, 2, 3, 4, 5]\n",
    "# sublist = my_list[1:4]\n",
    "\n",
    "# eng_katta = max(sublist)\n",
    "# print(f\"Sub ro‘yxatdagi eng katta element: {eng_katta}\")"
   ]
  },
  {
   "cell_type": "code",
   "execution_count": null,
   "id": "9179a413",
   "metadata": {},
   "outputs": [
    {
     "name": "stdout",
     "output_type": "stream",
     "text": [
      "Subro‘yxatdagi eng kichik element: 2\n"
     ]
    }
   ],
   "source": [
    "# 28 misol\n",
    "\n",
    "# my_list = [1, 2, 3, 4, 5]\n",
    "# sublist = my_list[1:4]\n",
    "# eng_kichik = min(sublist)\n",
    "# print(f\"Subro‘yxatdagi eng kichik element: {eng_kichik}\")"
   ]
  },
  {
   "cell_type": "code",
   "execution_count": null,
   "id": "540cc086",
   "metadata": {},
   "outputs": [
    {
     "name": "stdout",
     "output_type": "stream",
     "text": [
      "Yangilangan ro‘yxat: [1, 2, 4, 5]\n"
     ]
    }
   ],
   "source": [
    "# 29 misol\n",
    "\n",
    "# my_list = [1, 2, 3, 4, 5]\n",
    "# index = 2\n",
    "\n",
    "# if index < len(my_list):\n",
    "#     my_list.pop(index)\n",
    "\n",
    "# print(f\"Yangilangan ro‘yxat: {my_list}\")"
   ]
  },
  {
   "cell_type": "code",
   "execution_count": null,
   "id": "3e15f9c1",
   "metadata": {},
   "outputs": [],
   "source": [
    "# 30 misol\n",
    "\n",
    "# my_list = [1, 2, 3, 4, 5]\n",
    "\n",
    "# saralanganmi = my_list == sorted(my_list)\n",
    "# print(f\"Ro‘yxat saralanganmi? {saralanganmi}\")"
   ]
  },
  {
   "cell_type": "code",
   "execution_count": null,
   "id": "60b42a19",
   "metadata": {},
   "outputs": [],
   "source": [
    "# 31 misol \n",
    "\n",
    "# my_list = [1, 2, 3]\n",
    "# n = 2\n",
    "\n",
    "# takrorlangan = [x for x in my_list for _ in range(n)]\n",
    "# print(f\"Takrorlangan ro‘yxat: {takrorlangan}\")"
   ]
  },
  {
   "cell_type": "code",
   "execution_count": null,
   "id": "b510f5cf",
   "metadata": {},
   "outputs": [],
   "source": [
    "# 32 misol\n",
    "\n",
    "# list1 = [3, 1, 2]\n",
    "# list2 = [6, 5, 4]\n",
    "\n",
    "# birlashtirilgan = sorted(list1 + list2)\n",
    "# print(f\"Birlashtirilgan va saralangan: {birlashtirilgan}\")"
   ]
  },
  {
   "cell_type": "code",
   "execution_count": null,
   "id": "00493e9d",
   "metadata": {},
   "outputs": [],
   "source": [
    "# 33 misol\n",
    "\n",
    "# my_list = [1, 2, 3, 2, 4, 2]\n",
    "# element = 2\n",
    "\n",
    "# indekslar = [i for i, x in enumerate(my_list) if x == element]\n",
    "# print(f\"{element} elementining indekslari: {indekslar}\")"
   ]
  },
  {
   "cell_type": "code",
   "execution_count": null,
   "id": "c12a7932",
   "metadata": {},
   "outputs": [
    {
     "name": "stdout",
     "output_type": "stream",
     "text": [
      "Aylantirilgan ro‘yxat: [4, 5, 1, 2, 3]\n"
     ]
    }
   ],
   "source": [
    "# 34 misol\n",
    "\n",
    "# my_list = [1, 2, 3, 4, 5]\n",
    "# n = 2\n",
    "\n",
    "# aylantirilgan = my_list[-n:] + my_list[:-n]\n",
    "# print(f\"Aylantirilgan ro‘yxat: {aylantirilgan}\")"
   ]
  },
  {
   "cell_type": "code",
   "execution_count": null,
   "id": "9ef5288f",
   "metadata": {},
   "outputs": [
    {
     "name": "stdout",
     "output_type": "stream",
     "text": [
      "Oraliqdagi sonlar: [1, 2, 3, 4, 5, 6, 7, 8, 9, 10]\n"
     ]
    }
   ],
   "source": [
    "# 35 misol\n",
    "\n",
    "# boshlanish = 1\n",
    "# tugash = 10\n",
    "\n",
    "# range_list = list(range(boshlanish, tugash + 1))\n",
    "# print(f\"Oraliqdagi sonlar: {range_list}\")"
   ]
  },
  {
   "cell_type": "code",
   "execution_count": null,
   "id": "d5bb2985",
   "metadata": {},
   "outputs": [],
   "source": [
    "# 36  misol\n",
    "\n",
    "# my_list = [-1, 2, -3, 4, 5]\n",
    "\n",
    "# musbat_yigindi = sum(x for x in my_list if x > 0)\n",
    "# print(f\"Musbat sonlar yig‘indisi: {musbat_yigindi}\")"
   ]
  },
  {
   "cell_type": "code",
   "execution_count": null,
   "id": "3c361c15",
   "metadata": {},
   "outputs": [],
   "source": [
    "# 37 misol \n",
    "\n",
    "# my_list = [-1, 2, -3, 4, -5]\n",
    "\n",
    "# manfiy_yigindi = sum(x for x in my_list if x < 0)\n",
    "# print(f\"Manfiy sonlar yig‘indisi: {manfiy_yigindi}\")"
   ]
  },
  {
   "cell_type": "code",
   "execution_count": null,
   "id": "006e42fb",
   "metadata": {},
   "outputs": [
    {
     "name": "stdout",
     "output_type": "stream",
     "text": [
      "Ro‘yxat palindrommi? False\n"
     ]
    }
   ],
   "source": [
    "# 38 misol\n",
    "\n",
    "\n",
    "# my_list = [1, 2, 3, 2, 2]\n",
    "\n",
    "# palindrommi = my_list == my_list[::-1]\n",
    "# print(f\"Ro‘yxat palindrommi? {palindrommi}\")"
   ]
  },
  {
   "cell_type": "code",
   "execution_count": null,
   "id": "0583f09f",
   "metadata": {},
   "outputs": [],
   "source": [
    "# 39 misol\n",
    "\n",
    "# my_list = [1, 2, 3, 4, 5, 6]\n",
    "# n = 2\n",
    "\n",
    "# nested = [my_list[i:i + n] for i in range(0, len(my_list), n)]\n",
    "# print(f\"Ichma-ich ro‘yxat: {nested}\")"
   ]
  },
  {
   "cell_type": "code",
   "execution_count": null,
   "id": "ebdd780a",
   "metadata": {},
   "outputs": [],
   "source": [
    "# 40  misol\n",
    "\n",
    "# my_list = [1, 2, 2, 3, 1, 4, 5, 4]\n",
    "\n",
    "# unikal = []\n",
    "# for x in my_list:\n",
    "#     if x not in unikal:\n",
    "#         unikal.append(x)\n",
    "\n",
    "# print(f\"Noyob elementlar: {unikal}\")"
   ]
  },
  {
   "cell_type": "code",
   "execution_count": null,
   "id": "7b8a178f",
   "metadata": {},
   "outputs": [
    {
     "name": "stdout",
     "output_type": "stream",
     "text": [
      "9\n"
     ]
    }
   ],
   "source": [
    "# 2 bolim \n",
    "# 1 miol\n",
    "\n",
    "# t = (5, 7, 2, 9, 1)\n",
    "# max_elem = max(t)\n",
    "# print(max_elem)  "
   ]
  },
  {
   "cell_type": "code",
   "execution_count": null,
   "id": "0c51419a",
   "metadata": {},
   "outputs": [
    {
     "name": "stdout",
     "output_type": "stream",
     "text": [
      "1\n"
     ]
    }
   ],
   "source": [
    "# 2 misol\n",
    "\n",
    "\n",
    "# t = (5, 7, 2, 9, 1)\n",
    "# min_elem = min(t)\n",
    "# print(min_elem) "
   ]
  },
  {
   "cell_type": "code",
   "execution_count": null,
   "id": "f8e785f8",
   "metadata": {},
   "outputs": [
    {
     "name": "stdout",
     "output_type": "stream",
     "text": [
      "True\n"
     ]
    }
   ],
   "source": [
    "# 3 misol\n",
    "\n",
    "# t = (1, 2, 3)\n",
    "# element = 2\n",
    "# print(element in t) "
   ]
  },
  {
   "cell_type": "code",
   "execution_count": null,
   "id": "09c63517",
   "metadata": {},
   "outputs": [
    {
     "name": "stdout",
     "output_type": "stream",
     "text": [
      "10\n",
      "None\n"
     ]
    }
   ],
   "source": [
    "# 4 misol\n",
    "\n",
    "# t = (10, 20, 30)\n",
    "# first = t[0] if t else None\n",
    "# print(first)  # Natija: 10\n",
    "\n",
    "# empty_t = ()\n",
    "# first_empty = empty_t[0] if empty_t else None\n",
    "# print(first_empty)  "
   ]
  },
  {
   "cell_type": "code",
   "execution_count": null,
   "id": "beceb15b",
   "metadata": {},
   "outputs": [
    {
     "name": "stdout",
     "output_type": "stream",
     "text": [
      "30\n",
      "None\n"
     ]
    }
   ],
   "source": [
    "# 5 misol\n",
    "\n",
    "# t = (10, 20, 30)\n",
    "# last = t[-1] if t else None\n",
    "# print(last)  # Natija: 30\n",
    "\n",
    "# empty_t = ()\n",
    "# last_empty = empty_t[-1] if empty_t else None\n",
    "# print(last_empty) "
   ]
  },
  {
   "cell_type": "code",
   "execution_count": null,
   "id": "dd9f76e0",
   "metadata": {},
   "outputs": [
    {
     "name": "stdout",
     "output_type": "stream",
     "text": [
      "4\n"
     ]
    }
   ],
   "source": [
    "# 6 misol\n",
    "\n",
    "# t = (1, 2, 3, 4)\n",
    "# length = len(t)\n",
    "# print(length) "
   ]
  },
  {
   "cell_type": "code",
   "execution_count": null,
   "id": "036405e8",
   "metadata": {},
   "outputs": [],
   "source": [
    "# 7 misol\n",
    "\n",
    "# t = (1, 2, 3, 4, 5)\n",
    "# new_t = t[:3]\n",
    "# print(new_t)  "
   ]
  },
  {
   "cell_type": "code",
   "execution_count": null,
   "id": "f1013ddc",
   "metadata": {},
   "outputs": [],
   "source": [
    "# 9 misol\n",
    "\n",
    "# t1 = (1, 2)\n",
    "# t2 = (3, 4)\n",
    "# combined = t1 + t2\n",
    "# print(combined)  "
   ]
  },
  {
   "cell_type": "code",
   "execution_count": null,
   "id": "4168402d",
   "metadata": {},
   "outputs": [],
   "source": [
    "# 10 misol\n",
    "\n",
    "# t = ()\n",
    "# print(len(t) == 0)  "
   ]
  },
  {
   "cell_type": "code",
   "execution_count": null,
   "id": "81322a26",
   "metadata": {},
   "outputs": [],
   "source": [
    "# 11 misol\n",
    "\n",
    "# t = (1, 2, 3, 2, 4)\n",
    "# element = 2\n",
    "# indices = [i for i, x in enumerate(t) if x == element]\n",
    "# print(indices)  "
   ]
  },
  {
   "cell_type": "code",
   "execution_count": null,
   "id": "523f8288",
   "metadata": {},
   "outputs": [],
   "source": [
    "# 12 misol\n",
    "\n",
    "# t = (4, 1, 7, 7, 5)\n",
    "# unique = sorted(set(t), reverse=True)\n",
    "# second_largest = unique[1] if len(unique) > 1 else None\n",
    "# print(second_largest)  "
   ]
  },
  {
   "cell_type": "code",
   "execution_count": null,
   "id": "a74c6fd1",
   "metadata": {},
   "outputs": [],
   "source": [
    "# 13 misol\n",
    "\n",
    "# t = (4, 1, 7, 7, 5)\n",
    "# unique = sorted(set(t))\n",
    "# second_smallest = unique[1] if len(unique) > 1 else None\n",
    "# print(second_smallest) "
   ]
  },
  {
   "cell_type": "code",
   "execution_count": null,
   "id": "c1856452",
   "metadata": {},
   "outputs": [],
   "source": [
    "# 14 misol\n",
    "\n",
    "# element = 10\n",
    "# single_tuple = (element,)  \n",
    "# print(single_tuple)  "
   ]
  },
  {
   "cell_type": "code",
   "execution_count": null,
   "id": "8e1b4870",
   "metadata": {},
   "outputs": [
    {
     "name": "stdout",
     "output_type": "stream",
     "text": [
      "(1, 2, 3)\n"
     ]
    }
   ],
   "source": [
    "# 15 misol\n",
    "\n",
    "\n",
    "# lst = [1, 2, 3]\n",
    "# t = tuple(lst)\n",
    "# print(t)"
   ]
  },
  {
   "cell_type": "code",
   "execution_count": null,
   "id": "34c76fcb",
   "metadata": {},
   "outputs": [],
   "source": [
    "# 16 misol\n",
    "\n",
    "# t = (1, 2, 3, 4)\n",
    "# is_sorted = all(t[i] <= t[i+1] for i in range(len(t)-1))\n",
    "# print(is_sorted)  "
   ]
  },
  {
   "cell_type": "code",
   "execution_count": null,
   "id": "6fea1b70",
   "metadata": {},
   "outputs": [],
   "source": [
    "# 17 misol\n",
    "\n",
    "# t = (1, 5, 3, 9, 2)\n",
    "# subtuple = t[1:4]\n",
    "# max_sub = max(subtuple)\n",
    "# print(max_sub) "
   ]
  },
  {
   "cell_type": "code",
   "execution_count": null,
   "id": "4540dc0d",
   "metadata": {},
   "outputs": [],
   "source": [
    "# 18 misol \n",
    "\n",
    "# t = (1, 5, 3, 9, 2)\n",
    "# subtuple = t[1:4]\n",
    "# min_sub = min(subtuple)\n",
    "# print(min_sub)  "
   ]
  },
  {
   "cell_type": "code",
   "execution_count": null,
   "id": "be814ef8",
   "metadata": {},
   "outputs": [],
   "source": [
    "# 19 misol \n",
    "\n",
    "# t = (1, 2, 3, 2, 4)\n",
    "# element = 2\n",
    "# lst = list(t)\n",
    "# if element in lst:\n",
    "#     lst.remove(element)\n",
    "# new_t = tuple(lst)\n",
    "# print(new_t)  "
   ]
  },
  {
   "cell_type": "code",
   "execution_count": null,
   "id": "1283bba9",
   "metadata": {},
   "outputs": [
    {
     "name": "stdout",
     "output_type": "stream",
     "text": [
      "((1, 2), (3, 4), (5, 6))\n"
     ]
    }
   ],
   "source": [
    "# 20 misol \n",
    "\n",
    "# t = (1, 2, 3, 4, 5, 6)\n",
    "# nested = (t[:2], t[2:4], t[4:])\n",
    "# print(nested)  "
   ]
  },
  {
   "cell_type": "code",
   "execution_count": null,
   "id": "6b6b2f7e",
   "metadata": {},
   "outputs": [],
   "source": [
    "# 21 misol\n",
    "\n",
    "# t = (1, 2, 3)\n",
    "# n = 2\n",
    "# repeated = tuple(x for x in t for _ in range(n))\n",
    "# print(repeated) "
   ]
  },
  {
   "cell_type": "code",
   "execution_count": null,
   "id": "2c95ca17",
   "metadata": {},
   "outputs": [],
   "source": [
    "# 22 misol\n",
    "\n",
    "\n",
    "# t = tuple(range(1, 11))\n",
    "# print(t)  "
   ]
  },
  {
   "cell_type": "code",
   "execution_count": null,
   "id": "0653f0ed",
   "metadata": {},
   "outputs": [],
   "source": [
    "# 23 misol\n",
    "\n",
    "# t = (1, 2, 3)\n",
    "# reversed_t = t[::-1]\n",
    "# print(reversed_t)"
   ]
  },
  {
   "cell_type": "code",
   "execution_count": null,
   "id": "290dcb15",
   "metadata": {},
   "outputs": [],
   "source": [
    "# 24 misol \n",
    "\n",
    "# t = (1, 2, 3, 2, 1)\n",
    "# is_palindrome = t == t[::-1]\n",
    "# print(is_palindrome)  "
   ]
  },
  {
   "cell_type": "code",
   "execution_count": null,
   "id": "380aa891",
   "metadata": {},
   "outputs": [],
   "source": [
    "# 25 misol\n",
    "\n",
    "# t = (1, 2, 2, 3, 1, 4)\n",
    "# unique = []\n",
    "# for x in t:\n",
    "#     if x not in unique:\n",
    "#         unique.append(x)\n",
    "# new_t = tuple(unique)\n",
    "# print(new_t)  "
   ]
  }
 ],
 "metadata": {
  "kernelspec": {
   "display_name": "Python 3",
   "language": "python",
   "name": "python3"
  },
  "language_info": {
   "codemirror_mode": {
    "name": "ipython",
    "version": 3
   },
   "file_extension": ".py",
   "mimetype": "text/x-python",
   "name": "python",
   "nbconvert_exporter": "python",
   "pygments_lexer": "ipython3",
   "version": "3.10.10"
  }
 },
 "nbformat": 4,
 "nbformat_minor": 5
}
